{
 "cells": [
  {
   "cell_type": "code",
   "execution_count": 10,
   "id": "4fe689ad",
   "metadata": {
    "scrolled": false
   },
   "outputs": [
    {
     "name": "stdout",
     "output_type": "stream"
    }
   ],
   "source": [
    "#Aula 1 automação de processos\n",
    "\n",
    "#Instalação do pyautogui e pyperclip\n",
    "!pip install pyautogui\n",
    "!pip install pyperclip"
   ]
  },
  {
   "cell_type": "code",
   "execution_count": 26,
   "id": "45b15dbf",
   "metadata": {},
   
     },
   "source": [
    "import pyautogui\n",
    "import pyperclip\n",
    "import time\n",
    "import pandas as pd #Ler planilhas\n",
    "import datetime\n",
    "\n",
    "#pyperclip permite escrever texto com caracteres especiais\n",
    "#pyautogui.hotkey() -> conjunto de teclas\n",
    "#pyautogui.write() -> escrever um texto\n",
    "#pyautogui.press() -> apertar uma tecla\n",
    "\n",
    "#pyautogui.PAUSE -> pausa de 1 segundo entre os comandos\n",
    "pyautogui.PAUSE = 1\n",
    "\n",
    "#Descobrir posição do mouse na tela\n",
    "#time.sleep(3)\n",
    "#pyautogui.position()\n",
    "\n",
    "#Open a new browser tab \n",
    "pyautogui.hotkey(\"ctrl\", \"t\")\n",
    "pyperclip.copy(\"https://drive.google.com/drive/folders/149xknr9JvrlEnhNWO49zPcw0PW5icxga\")\n",
    "pyautogui.hotkey(\"ctrl\", \"v\")\n",
    "#pyautogui.write(\"hltv.org\")\n",
    "pyautogui.press(\"enter\")\n",
    "\n",
    "#pausa o código neste momento\n",
    "time.sleep(3)\n",
    "pyautogui.click(x=346, y=287, clicks=2) #Clica na pasta\n",
    "time.sleep(3)\n",
    "pyautogui.click(x=392, y=350) #Seleciona o arquivo\n",
    "pyautogui.click(x=1162, y=174) #Clica nos três pontos\n",
    "pyautogui.click(x=922, y=541) #Realiza o download do arquivo\n",
    "\n",
    "\n",
    "\n",
    "table = pd.read_excel(r\"C:\\Users\\Vini\\Downloads\\Vendas - Dez.xlsx\") #Substitua pelo caminho do arquivo na SUA máquina.\n",
    "display(table)\n",
    "\n",
    "#Calculos\n",
    "faturamento = table[\"Valor Final\"].sum()\n",
    "\n",
    "quantidade = table[\"Quantidade\"].sum()\n",
    "\n",
    "pyautogui.hotkey(\"ctrl\", \"t\")\n",
    "\n",
    "pyperclip.copy(\"https://mail.google.com/mail/u/0/#inbox\")\n",
    "\n",
    "pyautogui.hotkey(\"ctrl\", \"v\")\n",
    "\n",
    "pyautogui.press(\"enter\")\n",
    "\n",
    "time.sleep(5)\n",
    "\n",
    "pyautogui.click(x=82, y=174)\n",
    "\n",
    "time.sleep(2)\n",
    "\n",
    "pyautogui.write(\"zoboomafoo011@gmail.com\")\n",
    "\n",
    "pyautogui.press([\"tab\", \"tab\"])\n",
    "\n",
    "strDate = str(datetime.date.today())\n",
    "\n",
    "assunto = \"Relatório de vendas \" + strDate \n",
    "\n",
    "pyperclip.copy(assunto)\n",
    "\n",
    "pyautogui.hotkey(\"ctrl\", \"v\")\n",
    "\n",
    "pyautogui.press(\"tab\")\n",
    "\n",
    "texto = f\"\"\"\n",
    "\n",
    "Prezados,\n",
    "\n",
    "    segue o faturamento e quantidades referentes a data {strDate}\n",
    "    O faturamento foi de {faturamento:,.2f}\n",
    "    A quantidade foi de {quantidade:,}\n",
    "\n",
    "\"\"\"\n",
    "pyperclip.copy(texto)\n",
    "pyautogui.hotkey(\"ctrl\", \"v\")\n",
    "pyautogui.hotkey(\"ctrl\",\"enter\")\n",
    "\n",
    "\n",
    "\n"
   ]
  },
  {
   "cell_type": "code",
   "execution_count": 8,
   "id": "3c2faca3",
   "metadata": {},
   "outputs": [
    {
     "data": {
      "text/plain": [
       "Point(x=82, y=174)"
      ]
     },
     "execution_count": 8,
     "metadata": {},
     "output_type": "execute_result"
    }
   ],
   "source": [
    "#time.sleep(3)\n",
    "#pyautogui.position() descobrir posição do mouse"
   ]
  },
  {
   "cell_type": "code",
   "execution_count": 15,
   "id": "b9e78057",
   "metadata": {},
   "outputs": [
    {
     "name": "stdout",
     "output_type": "stream",
     "text": [
      "2022-05-09\n"
     ]
    }
   ],
   "source": []
  },
  {
   "cell_type": "code",
   "execution_count": null,
   "id": "4c5d007f",
   "metadata": {},
   "outputs": [],
   "source": []
  }
 ],
 "metadata": {
  "kernelspec": {
   "display_name": "Python 3 (ipykernel)",
   "language": "python",
   "name": "python3"
  },
  "language_info": {
   "codemirror_mode": {
    "name": "ipython",
    "version": 3
   },
   "file_extension": ".py",
   "mimetype": "text/x-python",
   "name": "python",
   "nbconvert_exporter": "python",
   "pygments_lexer": "ipython3",
   "version": "3.9.7"
  }
 },
 "nbformat": 4,
 "nbformat_minor": 5
}
